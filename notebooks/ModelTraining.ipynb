{
 "cells": [
  {
   "cell_type": "code",
   "execution_count": 1,
   "metadata": {},
   "outputs": [
    {
     "name": "stdout",
     "output_type": "stream",
     "text": [
      "\n",
      " Data missing:\n",
      "Age               0\n",
      "Sex               0\n",
      "ChestPainType     0\n",
      "RestingBP         0\n",
      "Cholesterol       0\n",
      "FastingBS         0\n",
      "RestingECG        0\n",
      "MaxHR             0\n",
      "ExerciseAngina    0\n",
      "Oldpeak           0\n",
      "ST_Slope          0\n",
      "HeartDisease      0\n",
      "dtype: int64\n",
      "Age                 int64\n",
      "Sex                object\n",
      "ChestPainType      object\n",
      "RestingBP           int64\n",
      "Cholesterol         int64\n",
      "FastingBS           int64\n",
      "RestingECG         object\n",
      "MaxHR               int64\n",
      "ExerciseAngina     object\n",
      "Oldpeak           float64\n",
      "ST_Slope           object\n",
      "HeartDisease        int64\n",
      "dtype: object\n",
      "Age                  0\n",
      "Sex                  0\n",
      "RestingBP            0\n",
      "Cholesterol          0\n",
      "FastingBS            0\n",
      "MaxHR                0\n",
      "Oldpeak              0\n",
      "HeartDisease         0\n",
      "ChestPainType_ASY    0\n",
      "ChestPainType_ATA    0\n",
      "ChestPainType_NAP    0\n",
      "ChestPainType_TA     0\n",
      "RestingECG_LVH       0\n",
      "RestingECG_Normal    0\n",
      "RestingECG_ST        0\n",
      "ExerciseAngina_N     0\n",
      "ExerciseAngina_Y     0\n",
      "ST_Slope_Down        0\n",
      "ST_Slope_Flat        0\n",
      "ST_Slope_Up          0\n",
      "dtype: int64\n",
      "Index(['Age', 'Sex', 'RestingBP', 'Cholesterol', 'FastingBS', 'MaxHR',\n",
      "       'Oldpeak', 'HeartDisease', 'ChestPainType_ASY', 'ChestPainType_ATA',\n",
      "       'ChestPainType_NAP', 'ChestPainType_TA', 'RestingECG_LVH',\n",
      "       'RestingECG_Normal', 'RestingECG_ST', 'ExerciseAngina_N',\n",
      "       'ExerciseAngina_Y', 'ST_Slope_Down', 'ST_Slope_Flat', 'ST_Slope_Up'],\n",
      "      dtype='object')\n",
      "     Age  Sex  RestingBP  Cholesterol  FastingBS  MaxHR  Oldpeak  \\\n",
      "0     40    1        140          289          0    172      0.0   \n",
      "1     49    0        160          180          0    156      1.0   \n",
      "2     37    1        130          283          0     98      0.0   \n",
      "3     48    0        138          214          0    108      1.5   \n",
      "4     54    1        150          195          0    122      0.0   \n",
      "..   ...  ...        ...          ...        ...    ...      ...   \n",
      "913   45    1        110          264          0    132      1.2   \n",
      "914   68    1        144          193          1    141      3.4   \n",
      "915   57    1        130          131          0    115      1.2   \n",
      "916   57    0        130          236          0    174      0.0   \n",
      "917   38    1        138          175          0    173      0.0   \n",
      "\n",
      "     HeartDisease  ChestPainType_ASY  ChestPainType_ATA  ChestPainType_NAP  \\\n",
      "0               0                  0                  1                  0   \n",
      "1               1                  0                  0                  1   \n",
      "2               0                  0                  1                  0   \n",
      "3               1                  1                  0                  0   \n",
      "4               0                  0                  0                  1   \n",
      "..            ...                ...                ...                ...   \n",
      "913             1                  0                  0                  0   \n",
      "914             1                  1                  0                  0   \n",
      "915             1                  1                  0                  0   \n",
      "916             1                  0                  1                  0   \n",
      "917             0                  0                  0                  1   \n",
      "\n",
      "     ChestPainType_TA  RestingECG_LVH  RestingECG_Normal  RestingECG_ST  \\\n",
      "0                   0               0                  1              0   \n",
      "1                   0               0                  1              0   \n",
      "2                   0               0                  0              1   \n",
      "3                   0               0                  1              0   \n",
      "4                   0               0                  1              0   \n",
      "..                ...             ...                ...            ...   \n",
      "913                 1               0                  1              0   \n",
      "914                 0               0                  1              0   \n",
      "915                 0               0                  1              0   \n",
      "916                 0               1                  0              0   \n",
      "917                 0               0                  1              0   \n",
      "\n",
      "     ExerciseAngina_N  ExerciseAngina_Y  ST_Slope_Down  ST_Slope_Flat  \\\n",
      "0                   1                 0              0              0   \n",
      "1                   1                 0              0              1   \n",
      "2                   1                 0              0              0   \n",
      "3                   0                 1              0              1   \n",
      "4                   1                 0              0              0   \n",
      "..                ...               ...            ...            ...   \n",
      "913                 1                 0              0              1   \n",
      "914                 1                 0              0              1   \n",
      "915                 0                 1              0              1   \n",
      "916                 1                 0              0              1   \n",
      "917                 1                 0              0              0   \n",
      "\n",
      "     ST_Slope_Up  \n",
      "0              1  \n",
      "1              0  \n",
      "2              1  \n",
      "3              0  \n",
      "4              1  \n",
      "..           ...  \n",
      "913            0  \n",
      "914            0  \n",
      "915            0  \n",
      "916            0  \n",
      "917            1  \n",
      "\n",
      "[918 rows x 20 columns]\n"
     ]
    }
   ],
   "source": [
    "from sklearn.model_selection import train_test_split\n",
    "%run DataExploration.ipynb"
   ]
  },
  {
   "cell_type": "code",
   "execution_count": 2,
   "metadata": {},
   "outputs": [],
   "source": [
    "X = df.drop(columns=['HeartDisease'])\n",
    "y = df['HeartDisease']\n",
    "X_train, X_test, y_train, y_test = train_test_split(X, y, test_size=0.2, random_state=42)"
   ]
  },
  {
   "cell_type": "code",
   "execution_count": 4,
   "metadata": {},
   "outputs": [],
   "source": [
    "from sklearn.preprocessing import StandardScaler"
   ]
  },
  {
   "cell_type": "code",
   "execution_count": 5,
   "metadata": {},
   "outputs": [],
   "source": [
    "scaler = StandardScaler()\n",
    "X_train = scaler.fit_transform(X_train)\n",
    "X_test = scaler.transform(X_test)"
   ]
  },
  {
   "cell_type": "code",
   "execution_count": 6,
   "metadata": {},
   "outputs": [
    {
     "name": "stdout",
     "output_type": "stream",
     "text": [
      "[[-1.24506731  0.54060477 -0.70898547 ...  3.78043207 -1.03325003\n",
      "  -0.84792072]\n",
      " [-1.8862362   0.54060477 -0.16628515 ... -0.26452003 -1.03325003\n",
      "   1.17935554]\n",
      " [ 0.25099346  0.54060477  0.91911549 ... -0.26452003  0.96781995\n",
      "  -0.84792072]\n",
      " ...\n",
      " [ 0.67843939  0.54060477 -0.16628515 ... -0.26452003 -1.03325003\n",
      "   1.17935554]\n",
      " [ 0.67843939  0.54060477  1.02765555 ... -0.26452003 -1.03325003\n",
      "   1.17935554]\n",
      " [-1.45879027 -1.84978019  0.91911549 ... -0.26452003  0.96781995\n",
      "  -0.84792072]]\n"
     ]
    }
   ],
   "source": [
    "print(X_train)"
   ]
  },
  {
   "cell_type": "code",
   "execution_count": 7,
   "metadata": {},
   "outputs": [
    {
     "name": "stdout",
     "output_type": "stream",
     "text": [
      "[[ 0.99902384 -1.84978019  0.37641517 ... -0.26452003 -1.03325003\n",
      "   1.17935554]\n",
      " [-0.06959099  0.54060477  0.64776533 ... -0.26452003  0.96781995\n",
      "  -0.84792072]\n",
      " [ 1.2127468   0.54060477  1.46181581 ... -0.26452003  0.96781995\n",
      "  -0.84792072]\n",
      " ...\n",
      " [ 1.10588532  0.54060477  0.4306852  ... -0.26452003  0.96781995\n",
      "  -0.84792072]\n",
      " [-0.49703693  0.54060477 -0.16628515 ... -0.26452003 -1.03325003\n",
      "   1.17935554]\n",
      " [ 1.10588532  0.54060477  0.5934953  ... -0.26452003  0.96781995\n",
      "  -0.84792072]]\n"
     ]
    }
   ],
   "source": [
    "print(X_test)"
   ]
  },
  {
   "cell_type": "code",
   "execution_count": 8,
   "metadata": {},
   "outputs": [],
   "source": [
    "from sklearn.linear_model import LogisticRegression"
   ]
  },
  {
   "cell_type": "code",
   "execution_count": 9,
   "metadata": {},
   "outputs": [],
   "source": [
    "logreg = LogisticRegression(class_weight='balanced')\n",
    "logreg.fit(X_train, y_train)\n",
    "y_pred_logreg = logreg.predict(X_test)"
   ]
  },
  {
   "cell_type": "code",
   "execution_count": 10,
   "metadata": {},
   "outputs": [
    {
     "name": "stdout",
     "output_type": "stream",
     "text": [
      "Weights (w): [[ 0.12018761  0.53439266  0.04082259 -0.52546963  0.43788772 -0.11675273\n",
      "   0.48647964  0.43586351 -0.23899707 -0.26692068 -0.06197872  0.08465702\n",
      "   0.00872538 -0.09726424 -0.26669439  0.26669439 -0.02395923  0.59834514\n",
      "  -0.5941731 ]]\n",
      "Bias (w0): [0.09027244]\n"
     ]
    }
   ],
   "source": [
    "print(\"Weights (w):\", logreg.coef_)\n",
    "print(\"Bias (w0):\", logreg.intercept_)"
   ]
  },
  {
   "cell_type": "code",
   "execution_count": 11,
   "metadata": {},
   "outputs": [],
   "source": [
    "from sklearn.metrics import accuracy_score, confusion_matrix, classification_report"
   ]
  },
  {
   "cell_type": "code",
   "execution_count": 12,
   "metadata": {},
   "outputs": [
    {
     "name": "stdout",
     "output_type": "stream",
     "text": [
      "Accuracy: 0.8532608695652174\n",
      "Confusion Matrix:\n",
      " [[68  9]\n",
      " [18 89]]\n",
      "Classification Report:\n",
      "               precision    recall  f1-score   support\n",
      "\n",
      "           0       0.79      0.88      0.83        77\n",
      "           1       0.91      0.83      0.87       107\n",
      "\n",
      "    accuracy                           0.85       184\n",
      "   macro avg       0.85      0.86      0.85       184\n",
      "weighted avg       0.86      0.85      0.85       184\n",
      "\n"
     ]
    }
   ],
   "source": [
    "print(\"Accuracy:\", accuracy_score(y_test, y_pred_logreg))\n",
    "print(\"Confusion Matrix:\\n\", confusion_matrix(y_test, y_pred_logreg))\n",
    "print(\"Classification Report:\\n\", classification_report(y_test, y_pred_logreg))"
   ]
  }
 ],
 "metadata": {
  "kernelspec": {
   "display_name": "Python 3",
   "language": "python",
   "name": "python3"
  },
  "language_info": {
   "codemirror_mode": {
    "name": "ipython",
    "version": 3
   },
   "file_extension": ".py",
   "mimetype": "text/x-python",
   "name": "python",
   "nbconvert_exporter": "python",
   "pygments_lexer": "ipython3",
   "version": "3.12.3"
  }
 },
 "nbformat": 4,
 "nbformat_minor": 2
}
