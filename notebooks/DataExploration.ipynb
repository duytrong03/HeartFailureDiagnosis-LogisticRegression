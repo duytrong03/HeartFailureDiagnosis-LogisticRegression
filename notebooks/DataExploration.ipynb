{
 "cells": [
  {
   "cell_type": "code",
   "execution_count": 1,
   "metadata": {},
   "outputs": [],
   "source": [
    "import pandas as pd\n",
    "import numpy as np"
   ]
  },
  {
   "cell_type": "code",
   "execution_count": 2,
   "metadata": {},
   "outputs": [],
   "source": [
    "df = pd.read_csv('D:\\\\Programer\\\\HMTK\\\\HeartFailureDiagnosis-LogisticRegression\\\\data\\\\raw\\\\heart_failure_data.csv')"
   ]
  },
  {
   "cell_type": "code",
   "execution_count": 3,
   "metadata": {},
   "outputs": [
    {
     "name": "stdout",
     "output_type": "stream",
     "text": [
      "\n",
      " Data missing:\n",
      "Age               0\n",
      "Sex               0\n",
      "ChestPainType     0\n",
      "RestingBP         0\n",
      "Cholesterol       0\n",
      "FastingBS         0\n",
      "RestingECG        0\n",
      "MaxHR             0\n",
      "ExerciseAngina    0\n",
      "Oldpeak           0\n",
      "ST_Slope          0\n",
      "HeartDisease      0\n",
      "dtype: int64\n"
     ]
    }
   ],
   "source": [
    "missing_rows = df.isna().sum()\n",
    "print('\\n Data missing:')\n",
    "print(missing_rows)"
   ]
  },
  {
   "cell_type": "code",
   "execution_count": 4,
   "metadata": {},
   "outputs": [
    {
     "name": "stdout",
     "output_type": "stream",
     "text": [
      "Age                 int64\n",
      "Sex                object\n",
      "ChestPainType      object\n",
      "RestingBP           int64\n",
      "Cholesterol         int64\n",
      "FastingBS           int64\n",
      "RestingECG         object\n",
      "MaxHR               int64\n",
      "ExerciseAngina     object\n",
      "Oldpeak           float64\n",
      "ST_Slope           object\n",
      "HeartDisease        int64\n",
      "dtype: object\n"
     ]
    }
   ],
   "source": [
    "print(df.dtypes)"
   ]
  },
  {
   "cell_type": "code",
   "execution_count": 5,
   "metadata": {},
   "outputs": [],
   "source": [
    "numerical_cols = df.select_dtypes(include=['int64', 'float64']).columns\n",
    "df[numerical_cols] = df[numerical_cols].fillna(df[numerical_cols].mean())"
   ]
  },
  {
   "cell_type": "code",
   "execution_count": 6,
   "metadata": {},
   "outputs": [],
   "source": [
    "categorical_cols = df.select_dtypes(include=['object']).columns\n",
    "for col in categorical_cols:\n",
    "    df[col] = df[col].fillna(df[col].mode()[0])\n",
    "\n",
    "df['Sex'] = df['Sex'].map({'M': 1, 'F': 0})"
   ]
  },
  {
   "cell_type": "code",
   "execution_count": 7,
   "metadata": {},
   "outputs": [],
   "source": [
    "df = pd.get_dummies(df, columns=['ChestPainType', 'RestingECG', 'ExerciseAngina', 'ST_Slope'], dtype=int)"
   ]
  },
  {
   "cell_type": "code",
   "execution_count": 8,
   "metadata": {},
   "outputs": [
    {
     "name": "stdout",
     "output_type": "stream",
     "text": [
      "Age                  0\n",
      "Sex                  0\n",
      "RestingBP            0\n",
      "Cholesterol          0\n",
      "FastingBS            0\n",
      "MaxHR                0\n",
      "Oldpeak              0\n",
      "HeartDisease         0\n",
      "ChestPainType_ASY    0\n",
      "ChestPainType_ATA    0\n",
      "ChestPainType_NAP    0\n",
      "ChestPainType_TA     0\n",
      "RestingECG_LVH       0\n",
      "RestingECG_Normal    0\n",
      "RestingECG_ST        0\n",
      "ExerciseAngina_N     0\n",
      "ExerciseAngina_Y     0\n",
      "ST_Slope_Down        0\n",
      "ST_Slope_Flat        0\n",
      "ST_Slope_Up          0\n",
      "dtype: int64\n"
     ]
    }
   ],
   "source": [
    "print(df.isna().sum())"
   ]
  },
  {
   "cell_type": "code",
   "execution_count": 9,
   "metadata": {},
   "outputs": [
    {
     "name": "stdout",
     "output_type": "stream",
     "text": [
      "Index(['Age', 'Sex', 'RestingBP', 'Cholesterol', 'FastingBS', 'MaxHR',\n",
      "       'Oldpeak', 'HeartDisease', 'ChestPainType_ASY', 'ChestPainType_ATA',\n",
      "       'ChestPainType_NAP', 'ChestPainType_TA', 'RestingECG_LVH',\n",
      "       'RestingECG_Normal', 'RestingECG_ST', 'ExerciseAngina_N',\n",
      "       'ExerciseAngina_Y', 'ST_Slope_Down', 'ST_Slope_Flat', 'ST_Slope_Up'],\n",
      "      dtype='object')\n"
     ]
    }
   ],
   "source": [
    "df = df.reset_index(drop=True)\n",
    "print(df.columns)"
   ]
  },
  {
   "cell_type": "code",
   "execution_count": 10,
   "metadata": {},
   "outputs": [
    {
     "name": "stdout",
     "output_type": "stream",
     "text": [
      "     Age  Sex  RestingBP  Cholesterol  FastingBS  MaxHR  Oldpeak  \\\n",
      "0     40    1        140          289          0    172      0.0   \n",
      "1     49    0        160          180          0    156      1.0   \n",
      "2     37    1        130          283          0     98      0.0   \n",
      "3     48    0        138          214          0    108      1.5   \n",
      "4     54    1        150          195          0    122      0.0   \n",
      "..   ...  ...        ...          ...        ...    ...      ...   \n",
      "913   45    1        110          264          0    132      1.2   \n",
      "914   68    1        144          193          1    141      3.4   \n",
      "915   57    1        130          131          0    115      1.2   \n",
      "916   57    0        130          236          0    174      0.0   \n",
      "917   38    1        138          175          0    173      0.0   \n",
      "\n",
      "     HeartDisease  ChestPainType_ASY  ChestPainType_ATA  ChestPainType_NAP  \\\n",
      "0               0                  0                  1                  0   \n",
      "1               1                  0                  0                  1   \n",
      "2               0                  0                  1                  0   \n",
      "3               1                  1                  0                  0   \n",
      "4               0                  0                  0                  1   \n",
      "..            ...                ...                ...                ...   \n",
      "913             1                  0                  0                  0   \n",
      "914             1                  1                  0                  0   \n",
      "915             1                  1                  0                  0   \n",
      "916             1                  0                  1                  0   \n",
      "917             0                  0                  0                  1   \n",
      "\n",
      "     ChestPainType_TA  RestingECG_LVH  RestingECG_Normal  RestingECG_ST  \\\n",
      "0                   0               0                  1              0   \n",
      "1                   0               0                  1              0   \n",
      "2                   0               0                  0              1   \n",
      "3                   0               0                  1              0   \n",
      "4                   0               0                  1              0   \n",
      "..                ...             ...                ...            ...   \n",
      "913                 1               0                  1              0   \n",
      "914                 0               0                  1              0   \n",
      "915                 0               0                  1              0   \n",
      "916                 0               1                  0              0   \n",
      "917                 0               0                  1              0   \n",
      "\n",
      "     ExerciseAngina_N  ExerciseAngina_Y  ST_Slope_Down  ST_Slope_Flat  \\\n",
      "0                   1                 0              0              0   \n",
      "1                   1                 0              0              1   \n",
      "2                   1                 0              0              0   \n",
      "3                   0                 1              0              1   \n",
      "4                   1                 0              0              0   \n",
      "..                ...               ...            ...            ...   \n",
      "913                 1                 0              0              1   \n",
      "914                 1                 0              0              1   \n",
      "915                 0                 1              0              1   \n",
      "916                 1                 0              0              1   \n",
      "917                 1                 0              0              0   \n",
      "\n",
      "     ST_Slope_Up  \n",
      "0              1  \n",
      "1              0  \n",
      "2              1  \n",
      "3              0  \n",
      "4              1  \n",
      "..           ...  \n",
      "913            0  \n",
      "914            0  \n",
      "915            0  \n",
      "916            0  \n",
      "917            1  \n",
      "\n",
      "[918 rows x 20 columns]\n"
     ]
    }
   ],
   "source": [
    "print(df)"
   ]
  }
 ],
 "metadata": {
  "kernelspec": {
   "display_name": "Python 3",
   "language": "python",
   "name": "python3"
  },
  "language_info": {
   "codemirror_mode": {
    "name": "ipython",
    "version": 3
   },
   "file_extension": ".py",
   "mimetype": "text/x-python",
   "name": "python",
   "nbconvert_exporter": "python",
   "pygments_lexer": "ipython3",
   "version": "3.12.3"
  }
 },
 "nbformat": 4,
 "nbformat_minor": 2
}
